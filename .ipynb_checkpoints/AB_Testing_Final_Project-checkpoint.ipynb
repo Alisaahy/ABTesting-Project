{
 "cells": [
  {
   "cell_type": "markdown",
   "metadata": {},
   "source": [
    "# A/B Testing Final Project\n",
    "\n",
    "# Experiment Overview: Free Trial Screener\n",
    "\n",
    "Control: Udacity courses have two options on the course overview page: \"start free trial\", and \"access course materials\". \n",
    "- If the student clicks \"start free trial\", they will be asked to enter their credit card information, and then they will be enrolled in a free trial for the paid version of the course. After 14 days, they will automatically be charged unless they cancel first. \n",
    "- If the student clicks \"access course materials\", they will be able to view the videos and take the quizzes for free, but they will not receive coaching support or a verified certificate, and they will not submit their final project for feedback.\n",
    "\n",
    "Experiment: Udacity tested a change where if the student clicked \"start free trial\", they were asked how much time they had available to devote to the course. \n",
    "- If the student indicated 5 or more hours per week, they would be taken through the checkout process as usual. \n",
    "- If they indicated fewer than 5 hours per week, a message would appear indicating that Udacity courses usually require a greater time commitment for successful completion, and suggesting that the student might like to access the course materials for free. At this point, the student would have the option to continue enrolling in the free trial, or access the course materials for free instead. \n",
    "This screenshot shows what the experiment looks like.\n",
    "\n",
    "<img src=\"images/1.png\" width=\"600\">\n",
    "\n",
    "\n",
    "Hypothesis: this might set clearer expectations for students upfront, thus reducing the number of frustrated students who left the free trial because they didn't have enough time—without significantly reducing the number of students to continue past the free trial and eventually complete the course. \n",
    "- If this hypothesis held true, Udacity could improve the overall student experience and improve coaches' capacity to support students who are likely to complete the course."
   ]
  },
  {
   "cell_type": "markdown",
   "metadata": {},
   "source": [
    "# Experiment Design\n",
    "\n",
    "## Unit of diversion\n",
    "The unit of diversion is a cookie, although if the student enrolls in the free trial, they are tracked by user-id from that point forward. The same user-id cannot enroll in the free trial twice. For users that do not enroll, their user-id is not tracked in the experiment, even if they were signed in when they visited the course overview page.\n",
    "\n",
    "## Metric Choice\n",
    "### Customer Funnel\n",
    "\n",
    "<img src=\"images/2.png\" width=\"500\">\n",
    "\n",
    "### Invariant Metrics\n",
    "> **Sanity check** can help check whether there’re things going wrong by looking at invariant metrics. There're two types of invariant metrics:\n",
    "(1) population sizing metrics based on unit of diversion: experiment population and control population should be comparable.\n",
    "(2) other invariants: the metrics that shouldn’t change in your experiment. We can check where the invariant metric falls under the overall process. If the feature affects the 2nd step in the customer funnel, then the metrics happens before the 2nd step can be used as invariant metrics.\n",
    "\n",
    "**Number of Cookies**: number of unique cookies to visit the course overview page. This is the unit of diversion and should be even distributed among the control and experiment groups.\n",
    "\n",
    "**Number of Clicks**: number of unique cookies to click the \"Start free trial\" buttion (which happens before the free trial screener is trigger). This metric is tracked before the experiment is triggered. So it should be comparable between the experiment and control groups.\n",
    "\n",
    "**Click-through-probability**: number of unique cookies to click the \"Start free trial\" button divided by number of unique cookies to view the course overview page. This metric is also tracked before the experiment is triggered. So it should be comparable between the experiment and control groups.\n",
    "\n",
    "### Evaluation metrics\n",
    "\n",
    "> To evaluate the performance of the experiment, we should firstly choose a good metric, which can happen in any steps of the customer funnel after the experiment is triggered. Recall that the goal of the experiment is reducing the number of left students and encouraging more students to continue past the free trial. \n",
    "\n",
    "To examine whether we can reach the goal in the experiment, our metrics should be in a rate or probability form, containing the following factors, which will change after the experiment and can impact our hypothesis: \n",
    "- number of user-ids to enroll in the free trial (this is expected to decrease)\n",
    "- number of user-ids to past the free-trial (this should not decrease significantly)\n",
    "- number of user-ids who complete the course (hope this wil; increase)\n",
    "\n",
    "Therefore, our final evaluation metrics are:\n",
    "\n",
    "\n",
    "**Gross conversion**: number of user-ids to complete checkout and enroll in the free trial divided by number of unique cookies to click the \"Start free trial\" button.\n",
    "(dmin = 0.01)\n",
    "\n",
    "**Retention**: number of user-ids to remain enrolled past the 14-day boundary (and thus make at least one payment) divided by number of user-ids to complete checkout. (dmin = 0.01)\n",
    "\n",
    "**Net conversion**: number of user-ids to remain enrolled past the 14-day boundary (and thus make at least one payment) divided by the number of unique cookies to click the \"Start free trial\" button. (dmin = 0.0075)\n",
    "\n",
    "All the metrics have a predetermined practical significant value (dmin) which should be reached if we want to launch the experiment. "
   ]
  },
  {
   "cell_type": "markdown",
   "metadata": {},
   "source": [
    "# Measuring Variability\n",
    "\n",
    "For each metric you selected as an evaluation metric, estimate its standard deviation analytically, given a sample size of 5000 cookies visiting the course overview page. Do you expect the analytic estimates to be accurate? That is, for which metrics, if any, would you want to collect an empirical estimate of the variability if you had time?\n",
    "\n",
    "Our three metrics are all in the form of probability, so we can assume them to be binomial distribution and used the formula to calculate the standard deviation of the sampling distribution for the proportion, or standard error:\n",
    "\n",
    "\\begin{align}\n",
    "\\sqrt{\\frac{P*(1-P)}{N}}\n",
    "\\end{align}\n",
    "\n",
    "Due to different unit of analysis these three metrics use, we should firstly calculate the number of unit of analysis. \n",
    "- For **gross conversion** and **net conversion**, the unit of analysis is the number of unique cookies who click the button. In the baseline group, 40000 pageviews correspond to 3200 click on the button. \n",
    "- For **retention**, the unit of analysis is number of users who complete checkout. In the baseline group, 40000 pageviews correspond to 660 checkouts and enrollments.\n",
    "\n",
    "The following calculation is based on the [baseline data]()"
   ]
  },
  {
   "cell_type": "code",
   "execution_count": 3,
   "metadata": {},
   "outputs": [],
   "source": [
    "import pandas as pd\n",
    "import numpy as np"
   ]
  },
  {
   "cell_type": "code",
   "execution_count": 51,
   "metadata": {},
   "outputs": [
    {
     "data": {
      "text/html": [
       "<div>\n",
       "<style scoped>\n",
       "    .dataframe tbody tr th:only-of-type {\n",
       "        vertical-align: middle;\n",
       "    }\n",
       "\n",
       "    .dataframe tbody tr th {\n",
       "        vertical-align: top;\n",
       "    }\n",
       "\n",
       "    .dataframe thead th {\n",
       "        text-align: right;\n",
       "    }\n",
       "</style>\n",
       "<table border=\"1\" class=\"dataframe\">\n",
       "  <thead>\n",
       "    <tr style=\"text-align: right;\">\n",
       "      <th></th>\n",
       "      <th>metrics</th>\n",
       "      <th>value</th>\n",
       "    </tr>\n",
       "  </thead>\n",
       "  <tbody>\n",
       "    <tr>\n",
       "      <td>0</td>\n",
       "      <td>Unique cookies to view course overview page pe...</td>\n",
       "      <td>40000.000000</td>\n",
       "    </tr>\n",
       "    <tr>\n",
       "      <td>1</td>\n",
       "      <td>Unique cookies to click \"Start free trial\" per...</td>\n",
       "      <td>3200.000000</td>\n",
       "    </tr>\n",
       "    <tr>\n",
       "      <td>2</td>\n",
       "      <td>Enrollments per day:</td>\n",
       "      <td>660.000000</td>\n",
       "    </tr>\n",
       "    <tr>\n",
       "      <td>3</td>\n",
       "      <td>Click-through-probability on \"Start free trial\":</td>\n",
       "      <td>0.080000</td>\n",
       "    </tr>\n",
       "    <tr>\n",
       "      <td>4</td>\n",
       "      <td>Probability of enrolling, given click:</td>\n",
       "      <td>0.206250</td>\n",
       "    </tr>\n",
       "    <tr>\n",
       "      <td>5</td>\n",
       "      <td>Probability of payment, given enroll:</td>\n",
       "      <td>0.530000</td>\n",
       "    </tr>\n",
       "    <tr>\n",
       "      <td>6</td>\n",
       "      <td>Probability of payment, given click</td>\n",
       "      <td>0.109313</td>\n",
       "    </tr>\n",
       "  </tbody>\n",
       "</table>\n",
       "</div>"
      ],
      "text/plain": [
       "                                             metrics         value\n",
       "0  Unique cookies to view course overview page pe...  40000.000000\n",
       "1  Unique cookies to click \"Start free trial\" per...   3200.000000\n",
       "2                               Enrollments per day:    660.000000\n",
       "3   Click-through-probability on \"Start free trial\":      0.080000\n",
       "4             Probability of enrolling, given click:      0.206250\n",
       "5              Probability of payment, given enroll:      0.530000\n",
       "6                Probability of payment, given click      0.109313"
      ]
     },
     "execution_count": 51,
     "metadata": {},
     "output_type": "execute_result"
    }
   ],
   "source": [
    "# Load the table\n",
    "df = pd.read_excel(\"src/Baseline_Values.xlsx\", header=None, names = ['metrics','value'])\n",
    "df"
   ]
  },
  {
   "cell_type": "code",
   "execution_count": 18,
   "metadata": {},
   "outputs": [],
   "source": [
    "# Build a function to calculate variability\n",
    "def variation(p,n):\n",
    "    return round(np.sqrt((p*(1-p))/n), 4)"
   ]
  },
  {
   "cell_type": "code",
   "execution_count": 19,
   "metadata": {},
   "outputs": [
    {
     "name": "stdout",
     "output_type": "stream",
     "text": [
      "Gross Conversion Standard Deviation: 0.0202\n"
     ]
    }
   ],
   "source": [
    "# Gross conversion\n",
    "n = 5000 * (3200/40000)\n",
    "p = 0.206250\n",
    "print('Gross Conversion Standard Deviation: {}'.format(variation(p,n)))"
   ]
  },
  {
   "cell_type": "code",
   "execution_count": 20,
   "metadata": {},
   "outputs": [
    {
     "name": "stdout",
     "output_type": "stream",
     "text": [
      "Net Conversion Standard Deviation: 0.0156\n"
     ]
    }
   ],
   "source": [
    "# Net conversion\n",
    "p = 0.109313\n",
    "print('Net Conversion Standard Deviation: {}'.format(variation(p,n)))"
   ]
  },
  {
   "cell_type": "code",
   "execution_count": 22,
   "metadata": {},
   "outputs": [
    {
     "name": "stdout",
     "output_type": "stream",
     "text": [
      "Retention Standard Deviation: 0.0549\n"
     ]
    }
   ],
   "source": [
    "# Retention\n",
    "n = 5000 * (660/40000)\n",
    "p = 0.530000\n",
    "print('Retention Standard Deviation: {}'.format(variation(p,n)))"
   ]
  },
  {
   "cell_type": "markdown",
   "metadata": {},
   "source": [
    "- For gross conversion and net conversion, their unit of analysis is the same as their unit of diversion, and therefore, their actual variability will be similar to the calculated variability. \n",
    "- For retention, its unit of analysis is different from its unit of diversion, which means the actual variability might be a lot higher than what was calculated analytically."
   ]
  },
  {
   "cell_type": "markdown",
   "metadata": {},
   "source": [
    "# Calculating Sample Size\n",
    "\n",
    "I won't use Bonferroni correction in my analysis phase. To decide the total number of pageviews I need, I'll set alpha = 0.05 and beta = 0.2.\n",
    "\n",
    "The formula for sample size is:\n",
    "\n",
    "<img src=\"images/3.png\" width=\"500\">\n",
    "\n",
    "As from the formula:\n",
    "- z-beta = 0.84, if 1 - beta = 0.8\n",
    "- z-alpha/2 = 1.96, if alpha = 0.05\n",
    "- Standard deviation follows the formula that: ${SE}$ = $\\frac{SD}{\\sqrt{N}}$, which means we assume that the standard error is proportional to $\\frac{1}{\\sqrt{N}}$.\n",
    "\n",
    "So I'll use the formula to firstly calculate the needed sample size, and then decide the total number of pageview needed."
   ]
  },
  {
   "cell_type": "code",
   "execution_count": 165,
   "metadata": {},
   "outputs": [],
   "source": [
    "# Function for sample size\n",
    "import scipy\n",
    "from scipy import stats\n",
    "\n",
    "def sample_size(n, p, dmin, alpha, beta):\n",
    "    SE = np.sqrt((p*(1-p))/n)\n",
    "    SD = SE * np.sqrt(n)\n",
    "    z_1 = abs(scipy.stats.norm.ppf(alpha/2))\n",
    "    z_2 = abs(scipy.stats.norm.ppf(beta))\n",
    "    each_size = 2*(SD**2)*((z_1+z_2)**2)/(dmin**2)\n",
    "    all_size = round(each_size * 2)\n",
    "    return all_size"
   ]
  },
  {
   "cell_type": "code",
   "execution_count": 166,
   "metadata": {},
   "outputs": [
    {
     "name": "stdout",
     "output_type": "stream",
     "text": [
      "Overall Sample Size Needed for Gross Conversion: 51398\n",
      "Overall Pageviews Needed for Gross Conversion: 642475\n"
     ]
    }
   ],
   "source": [
    "# Gross conversion\n",
    "n = 5000 * (3200/40000)\n",
    "p = 0.206250\n",
    "dmin = 0.01\n",
    "alpha = 0.05\n",
    "beta = 0.2\n",
    "all_size = int(sample_size(n,p,dmin,alpha,beta))\n",
    "pageview_size_gross = int(all_size/(3200/40000))\n",
    "print('Overall Sample Size Needed for Gross Conversion: {}'.format(all_size))\n",
    "print('Overall Pageviews Needed for Gross Conversion: {}'.format(pageview_size_gross))"
   ]
  },
  {
   "cell_type": "code",
   "execution_count": 167,
   "metadata": {},
   "outputs": [
    {
     "name": "stdout",
     "output_type": "stream",
     "text": [
      "Overall Sample Size Needed for Net Conversion: 54343\n",
      "Overall Pageviews Needed for Net Conversion: 679287\n"
     ]
    }
   ],
   "source": [
    "# Net conversion\n",
    "n = 5000 * (3200/40000)\n",
    "p = 0.109313\n",
    "dmin = 0.0075\n",
    "alpha = 0.05\n",
    "beta = 0.2\n",
    "all_size = int(sample_size(n,p,dmin,alpha,beta))\n",
    "pageview_size_net = int(all_size/(3200/40000))\n",
    "print('Overall Sample Size Needed for Net Conversion: {}'.format(all_size))\n",
    "print('Overall Pageviews Needed for Net Conversion: {}'.format(pageview_size_net))"
   ]
  },
  {
   "cell_type": "code",
   "execution_count": 168,
   "metadata": {},
   "outputs": [
    {
     "name": "stdout",
     "output_type": "stream",
     "text": [
      "Overall Sample Size Needed for Retention: 78206\n",
      "Overall Pageviews Needed for Retention: 4739757\n"
     ]
    }
   ],
   "source": [
    "# Retention\n",
    "n = 5000 * (660/40000)\n",
    "p = 0.530000\n",
    "dmin = 0.01\n",
    "alpha = 0.05\n",
    "beta = 0.2\n",
    "all_size = int(sample_size(n,p,dmin,alpha,beta))\n",
    "pageview_size_ret = int(all_size/(660/40000))\n",
    "print('Overall Sample Size Needed for Retention: {}'.format(all_size))\n",
    "print('Overall Pageviews Needed for Retention: {}'.format(pageview_size_ret))"
   ]
  },
  {
   "cell_type": "markdown",
   "metadata": {},
   "source": [
    "# Duration and Exposure"
   ]
  },
  {
   "cell_type": "code",
   "execution_count": 52,
   "metadata": {
    "scrolled": true
   },
   "outputs": [
    {
     "data": {
      "text/html": [
       "<div>\n",
       "<style scoped>\n",
       "    .dataframe tbody tr th:only-of-type {\n",
       "        vertical-align: middle;\n",
       "    }\n",
       "\n",
       "    .dataframe tbody tr th {\n",
       "        vertical-align: top;\n",
       "    }\n",
       "\n",
       "    .dataframe thead th {\n",
       "        text-align: right;\n",
       "    }\n",
       "</style>\n",
       "<table border=\"1\" class=\"dataframe\">\n",
       "  <thead>\n",
       "    <tr style=\"text-align: right;\">\n",
       "      <th></th>\n",
       "      <th>metrics</th>\n",
       "      <th>value</th>\n",
       "    </tr>\n",
       "  </thead>\n",
       "  <tbody>\n",
       "    <tr>\n",
       "      <td>0</td>\n",
       "      <td>Unique cookies to view course overview page pe...</td>\n",
       "      <td>40000.000000</td>\n",
       "    </tr>\n",
       "    <tr>\n",
       "      <td>1</td>\n",
       "      <td>Unique cookies to click \"Start free trial\" per...</td>\n",
       "      <td>3200.000000</td>\n",
       "    </tr>\n",
       "    <tr>\n",
       "      <td>2</td>\n",
       "      <td>Enrollments per day:</td>\n",
       "      <td>660.000000</td>\n",
       "    </tr>\n",
       "    <tr>\n",
       "      <td>3</td>\n",
       "      <td>Click-through-probability on \"Start free trial\":</td>\n",
       "      <td>0.080000</td>\n",
       "    </tr>\n",
       "    <tr>\n",
       "      <td>4</td>\n",
       "      <td>Probability of enrolling, given click:</td>\n",
       "      <td>0.206250</td>\n",
       "    </tr>\n",
       "    <tr>\n",
       "      <td>5</td>\n",
       "      <td>Probability of payment, given enroll:</td>\n",
       "      <td>0.530000</td>\n",
       "    </tr>\n",
       "    <tr>\n",
       "      <td>6</td>\n",
       "      <td>Probability of payment, given click</td>\n",
       "      <td>0.109313</td>\n",
       "    </tr>\n",
       "  </tbody>\n",
       "</table>\n",
       "</div>"
      ],
      "text/plain": [
       "                                             metrics         value\n",
       "0  Unique cookies to view course overview page pe...  40000.000000\n",
       "1  Unique cookies to click \"Start free trial\" per...   3200.000000\n",
       "2                               Enrollments per day:    660.000000\n",
       "3   Click-through-probability on \"Start free trial\":      0.080000\n",
       "4             Probability of enrolling, given click:      0.206250\n",
       "5              Probability of payment, given enroll:      0.530000\n",
       "6                Probability of payment, given click      0.109313"
      ]
     },
     "execution_count": 52,
     "metadata": {},
     "output_type": "execute_result"
    }
   ],
   "source": [
    "df"
   ]
  },
  {
   "cell_type": "code",
   "execution_count": 82,
   "metadata": {},
   "outputs": [
    {
     "name": "stdout",
     "output_type": "stream",
     "text": [
      "Overall Days Needed for Retention Experiment: 237\n"
     ]
    }
   ],
   "source": [
    "# From the table,we can see the unique page view each day is 40000.\n",
    "# Assume that we divert 50% of the overall traffic to the experiment\n",
    "fraction = 0.5\n",
    "retention_day = round(pageview_size_ret/(40000*fraction))\n",
    "print('Overall Days Needed for Retention Experiment: {}'.format(retention_day))"
   ]
  },
  {
   "cell_type": "markdown",
   "metadata": {},
   "source": [
    "From the above calculation, we can know that if we want to use retention as a metric, we should spend 1185 days to gather enough pageviews for experiment, which is a pretty long-running experiment.\n",
    "\n",
    "We have several choices to deal with this problem and shorten the experiment:\n",
    "- Select another metric which need a smaller sample size\n",
    "- Increase alpha (increase the possibility of false positive)\n",
    "- Increase beta (increase the possibility of false negative)\n",
    "- Increase dmin (increase the practical significance boundary to not try to detect a smaller change)"
   ]
  },
  {
   "cell_type": "markdown",
   "metadata": {},
   "source": [
    "## Select another metric which need a smaller sample size"
   ]
  },
  {
   "cell_type": "code",
   "execution_count": 83,
   "metadata": {},
   "outputs": [
    {
     "name": "stdout",
     "output_type": "stream",
     "text": [
      "Overall Days Needed for Retention Experiment: 32\n"
     ]
    }
   ],
   "source": [
    "# If we use gross conversion and still divert 50% of traffic to experiment\n",
    "fraction = 0.5\n",
    "gross_day = round(pageview_size_gross/(40000*fraction))\n",
    "print('Overall Days Needed for Retention Experiment: {}'.format(gross_day))"
   ]
  },
  {
   "cell_type": "code",
   "execution_count": 84,
   "metadata": {},
   "outputs": [
    {
     "name": "stdout",
     "output_type": "stream",
     "text": [
      "Overall Days Needed for Retention Experiment: 34\n"
     ]
    }
   ],
   "source": [
    "# If we use net conversion and still divert 50% of traffic to experiment\n",
    "fraction = 0.5\n",
    "net_day = round(pageview_size_net/(40000*fraction))\n",
    "print('Overall Days Needed for Retention Experiment: {}'.format(net_day))"
   ]
  },
  {
   "cell_type": "markdown",
   "metadata": {},
   "source": [
    "## Increase alpha (increase the possibility of false positive)"
   ]
  },
  {
   "cell_type": "code",
   "execution_count": 94,
   "metadata": {},
   "outputs": [
    {
     "data": {
      "image/png": "[encoded data removed]",
      "text/plain": [
       "<Figure size 432x288 with 1 Axes>"
      ]
     },
     "metadata": {
      "needs_background": "light"
     },
     "output_type": "display_data"
    }
   ],
   "source": [
    "import matplotlib.pyplot as plt\n",
    "%matplotlib inline\n",
    "\n",
    "alpha_list = np.linspace(0.05, 0.2, 40)\n",
    "n = 5000 * (660/40000)\n",
    "p = 0.530000\n",
    "dmin = 0.01\n",
    "beta = 0.2\n",
    "pageview_size = [int(sample_size(n,p,dmin,alpha,beta)/(660/40000)) for alpha in alpha_list]\n",
    "net_day = [round(i/(40000*fraction)) for i in pageview_size]\n",
    "plt.plot(alpha_list, net_day)\n",
    "plt.xlabel('alpha')\n",
    "plt.ylabel('Days needed for experiment')\n",
    "plt.show()"
   ]
  },
  {
   "cell_type": "markdown",
   "metadata": {},
   "source": [
    "## Increase beta (increase the possibility of false negative)"
   ]
  },
  {
   "cell_type": "code",
   "execution_count": 98,
   "metadata": {},
   "outputs": [
    {
     "data": {
      "image/png": "[encoded data removed]",
      "text/plain": [
       "<Figure size 432x288 with 1 Axes>"
      ]
     },
     "metadata": {
      "needs_background": "light"
     },
     "output_type": "display_data"
    }
   ],
   "source": [
    "beta_list = np.linspace(0.1, 0.4, 40)\n",
    "n = 5000 * (660/40000)\n",
    "p = 0.530000\n",
    "dmin = 0.01\n",
    "alpha = 0.05\n",
    "pageview_size = [int(sample_size(n,p,dmin,alpha,beta)/(660/40000)) for beta in beta_list]\n",
    "net_day = [round(i/(40000*fraction)) for i in pageview_size]\n",
    "plt.plot(beta_list, net_day)\n",
    "plt.xlabel('beta')\n",
    "plt.ylabel('Days needed for experiment')\n",
    "plt.show()"
   ]
  },
  {
   "cell_type": "markdown",
   "metadata": {},
   "source": [
    "## Increase dmin (increase the practical significance boundary to not try to detect a smaller change)"
   ]
  },
  {
   "cell_type": "code",
   "execution_count": 99,
   "metadata": {},
   "outputs": [
    {
     "data": {
      "image/png": "[encoded data removed]",
      "text/plain": [
       "<Figure size 432x288 with 1 Axes>"
      ]
     },
     "metadata": {
      "needs_background": "light"
     },
     "output_type": "display_data"
    }
   ],
   "source": [
    "dmin_list = np.linspace(0.01, 0.04, 40)\n",
    "n = 5000 * (660/40000)\n",
    "p = 0.530000\n",
    "alpha = 0.05\n",
    "beta = 0.2\n",
    "pageview_size = [int(sample_size(n,p,dmin,alpha,beta)/(660/40000)) for dmin in dmin_list]\n",
    "net_day = [round(i/(40000*fraction)) for i in pageview_size]\n",
    "plt.plot(dmin_list, net_day)\n",
    "plt.xlabel('dmin')\n",
    "plt.ylabel('Days needed for experiment')\n",
    "plt.show()"
   ]
  },
  {
   "cell_type": "markdown",
   "metadata": {},
   "source": [
    "# Sanity check\n",
    "\n",
    "Start by checking whether your invariant metrics are equivalent between the two groups. \n",
    "- If the invariant metric is a simple count that should be randomly split between the 2 groups, I'll use a binomial test. I'll calculate a confidence interval around the fraction of events I expect to be assigned to the control group, and the observed value should be the actual fraction that was assigned to the control group. \n",
    "\n",
    "- Otherwise, I'll need to construct a confidence interval for a difference in proportions, then check whether the difference between group values falls within that confidence level.\n",
    "\n",
    "- If the sanity checks fail, I'll look at the day by day data and see if I can offer any insight into what is causing the problem."
   ]
  },
  {
   "cell_type": "code",
   "execution_count": 109,
   "metadata": {},
   "outputs": [
    {
     "data": {
      "text/html": [
       "<div>\n",
       "<style scoped>\n",
       "    .dataframe tbody tr th:only-of-type {\n",
       "        vertical-align: middle;\n",
       "    }\n",
       "\n",
       "    .dataframe tbody tr th {\n",
       "        vertical-align: top;\n",
       "    }\n",
       "\n",
       "    .dataframe thead th {\n",
       "        text-align: right;\n",
       "    }\n",
       "</style>\n",
       "<table border=\"1\" class=\"dataframe\">\n",
       "  <thead>\n",
       "    <tr style=\"text-align: right;\">\n",
       "      <th></th>\n",
       "      <th>Date</th>\n",
       "      <th>Pageviews</th>\n",
       "      <th>Clicks</th>\n",
       "      <th>Enrollments</th>\n",
       "      <th>Payments</th>\n",
       "    </tr>\n",
       "  </thead>\n",
       "  <tbody>\n",
       "    <tr>\n",
       "      <td>0</td>\n",
       "      <td>Sat, Oct 11</td>\n",
       "      <td>7723</td>\n",
       "      <td>687</td>\n",
       "      <td>134.0</td>\n",
       "      <td>70.0</td>\n",
       "    </tr>\n",
       "    <tr>\n",
       "      <td>1</td>\n",
       "      <td>Sun, Oct 12</td>\n",
       "      <td>9102</td>\n",
       "      <td>779</td>\n",
       "      <td>147.0</td>\n",
       "      <td>70.0</td>\n",
       "    </tr>\n",
       "    <tr>\n",
       "      <td>2</td>\n",
       "      <td>Mon, Oct 13</td>\n",
       "      <td>10511</td>\n",
       "      <td>909</td>\n",
       "      <td>167.0</td>\n",
       "      <td>95.0</td>\n",
       "    </tr>\n",
       "    <tr>\n",
       "      <td>3</td>\n",
       "      <td>Tue, Oct 14</td>\n",
       "      <td>9871</td>\n",
       "      <td>836</td>\n",
       "      <td>156.0</td>\n",
       "      <td>105.0</td>\n",
       "    </tr>\n",
       "    <tr>\n",
       "      <td>4</td>\n",
       "      <td>Wed, Oct 15</td>\n",
       "      <td>10014</td>\n",
       "      <td>837</td>\n",
       "      <td>163.0</td>\n",
       "      <td>64.0</td>\n",
       "    </tr>\n",
       "  </tbody>\n",
       "</table>\n",
       "</div>"
      ],
      "text/plain": [
       "          Date  Pageviews  Clicks  Enrollments  Payments\n",
       "0  Sat, Oct 11       7723     687        134.0      70.0\n",
       "1  Sun, Oct 12       9102     779        147.0      70.0\n",
       "2  Mon, Oct 13      10511     909        167.0      95.0\n",
       "3  Tue, Oct 14       9871     836        156.0     105.0\n",
       "4  Wed, Oct 15      10014     837        163.0      64.0"
      ]
     },
     "execution_count": 109,
     "metadata": {},
     "output_type": "execute_result"
    }
   ],
   "source": [
    "df_con = pd.read_excel(\"src/Final_Project_Results.xlsx\", sheet_name=\"Control\")\n",
    "df_con.head()"
   ]
  },
  {
   "cell_type": "code",
   "execution_count": 110,
   "metadata": {},
   "outputs": [
    {
     "data": {
      "text/html": [
       "<div>\n",
       "<style scoped>\n",
       "    .dataframe tbody tr th:only-of-type {\n",
       "        vertical-align: middle;\n",
       "    }\n",
       "\n",
       "    .dataframe tbody tr th {\n",
       "        vertical-align: top;\n",
       "    }\n",
       "\n",
       "    .dataframe thead th {\n",
       "        text-align: right;\n",
       "    }\n",
       "</style>\n",
       "<table border=\"1\" class=\"dataframe\">\n",
       "  <thead>\n",
       "    <tr style=\"text-align: right;\">\n",
       "      <th></th>\n",
       "      <th>Date</th>\n",
       "      <th>Pageviews</th>\n",
       "      <th>Clicks</th>\n",
       "      <th>Enrollments</th>\n",
       "      <th>Payments</th>\n",
       "    </tr>\n",
       "  </thead>\n",
       "  <tbody>\n",
       "    <tr>\n",
       "      <td>0</td>\n",
       "      <td>Sat, Oct 11</td>\n",
       "      <td>7716</td>\n",
       "      <td>686</td>\n",
       "      <td>105.0</td>\n",
       "      <td>34.0</td>\n",
       "    </tr>\n",
       "    <tr>\n",
       "      <td>1</td>\n",
       "      <td>Sun, Oct 12</td>\n",
       "      <td>9288</td>\n",
       "      <td>785</td>\n",
       "      <td>116.0</td>\n",
       "      <td>91.0</td>\n",
       "    </tr>\n",
       "    <tr>\n",
       "      <td>2</td>\n",
       "      <td>Mon, Oct 13</td>\n",
       "      <td>10480</td>\n",
       "      <td>884</td>\n",
       "      <td>145.0</td>\n",
       "      <td>79.0</td>\n",
       "    </tr>\n",
       "    <tr>\n",
       "      <td>3</td>\n",
       "      <td>Tue, Oct 14</td>\n",
       "      <td>9867</td>\n",
       "      <td>827</td>\n",
       "      <td>138.0</td>\n",
       "      <td>92.0</td>\n",
       "    </tr>\n",
       "    <tr>\n",
       "      <td>4</td>\n",
       "      <td>Wed, Oct 15</td>\n",
       "      <td>9793</td>\n",
       "      <td>832</td>\n",
       "      <td>140.0</td>\n",
       "      <td>94.0</td>\n",
       "    </tr>\n",
       "  </tbody>\n",
       "</table>\n",
       "</div>"
      ],
      "text/plain": [
       "          Date  Pageviews  Clicks  Enrollments  Payments\n",
       "0  Sat, Oct 11       7716     686        105.0      34.0\n",
       "1  Sun, Oct 12       9288     785        116.0      91.0\n",
       "2  Mon, Oct 13      10480     884        145.0      79.0\n",
       "3  Tue, Oct 14       9867     827        138.0      92.0\n",
       "4  Wed, Oct 15       9793     832        140.0      94.0"
      ]
     },
     "execution_count": 110,
     "metadata": {},
     "output_type": "execute_result"
    }
   ],
   "source": [
    "df_exp = pd.read_excel(\"src/Final_Project_Results.xlsx\", sheet_name=\"Experiment\")\n",
    "df_exp.head()"
   ]
  },
  {
   "cell_type": "markdown",
   "metadata": {},
   "source": [
    "## For count metrics\n",
    "### Number of Cookies"
   ]
  },
  {
   "cell_type": "code",
   "execution_count": 143,
   "metadata": {},
   "outputs": [],
   "source": [
    "# Given that each cookie is randomly assigned to the control group or experiment group with probability of 0.5\n",
    "\n",
    "def sanity_check(total_con, total_exp, p=0.5, alpha =0.05):\n",
    "    # Compute standard deviation of binomial distribution\n",
    "    SD = np.sqrt(p*(1-p)/(total_con+total_exp))\n",
    "    \n",
    "    # Multiply by z-score to get margin of error\n",
    "    z_1 = abs(scipy.stats.norm.ppf(alpha/2))\n",
    "    margin = SD*z_1\n",
    "    \n",
    "    # Compute confidence interval around 0.5\n",
    "    C_I_lower = 0.5-margin\n",
    "    C_I_higher = 0.5+margin\n",
    "    \n",
    "    # Calculate observed fraction, which is number of observations assigned to the control group\n",
    "    observe_fraction = total_con/(total_con+total_exp)\n",
    "    \n",
    "    # Check whether the observed fraction lies between the Confidence interval \n",
    "    print('Confidence Interval: [{:.4f}, {:.4f}]'.format(C_I_lower, C_I_higher))\n",
    "    print('Observed proportion: {:.4f}'.format(observe_fraction))\n",
    "    print('Pass the sanity check: ' + str((observe_fraction<C_I_higher)&(observe_fraction>C_I_lower)))\n",
    "    return None"
   ]
  },
  {
   "cell_type": "code",
   "execution_count": 144,
   "metadata": {},
   "outputs": [
    {
     "name": "stdout",
     "output_type": "stream",
     "text": [
      "Confidence Interval: [0.4988, 0.5012]\n",
      "Observed proportion: 0.5006\n",
      "Pass the sanity check: True\n"
     ]
    }
   ],
   "source": [
    "# Pageview Sanity Check\n",
    "sanity_check(df_con.Pageviews.sum(), df_exp.Pageviews.sum(), p, alpha)"
   ]
  },
  {
   "cell_type": "markdown",
   "metadata": {},
   "source": [
    "### Number of Clicks"
   ]
  },
  {
   "cell_type": "code",
   "execution_count": 140,
   "metadata": {},
   "outputs": [
    {
     "name": "stdout",
     "output_type": "stream",
     "text": [
      "Confidence Interval: [0.4959, 0.5041]\n",
      "Observed Proportion: 0.5005\n",
      "Pass the sanity check: True\n"
     ]
    }
   ],
   "source": [
    "# Clicks Sanity Check\n",
    "sanity_check(df_con.Clicks.sum(), df_exp.Clicks.sum(), p, alpha)"
   ]
  },
  {
   "cell_type": "markdown",
   "metadata": {},
   "source": [
    "## For proportion metric\n",
    "### Click-through-probability"
   ]
  },
  {
   "cell_type": "code",
   "execution_count": 221,
   "metadata": {},
   "outputs": [],
   "source": [
    "def sanity_check_prop(click_con, click_exp, pageview_con, pageview_exp, alpha =0.05):\n",
    "    # Calculate the pooled proportion\n",
    "    p_pool = (click_con+click_exp)/(pageview_con+pageview_exp)\n",
    "    \n",
    "    # Compute standard deviation of binomial distribution\n",
    "    SE_pooled = np.sqrt(p_pool*(1-p_pool)*(1/pageview_con+1/pageview_exp))\n",
    "    \n",
    "    # Multiply by z-score to get margin of error\n",
    "    z_1 = abs(scipy.stats.norm.ppf(alpha/2))\n",
    "    margin = SE_pooled*z_1\n",
    "    \n",
    "    # Calculate the observed difference in proportion between two groups\n",
    "    d = click_exp/pageview_exp - click_con/pageview_con\n",
    "    \n",
    "    # Compute confidence interval around the observed difference\n",
    "    # We expect our estimation of difference between groups to be distributed normally, \n",
    "    # with a mean of 0 and a standard deviation of the pooled standard error.\n",
    "    C_I_lower = -margin\n",
    "    C_I_higher = margin\n",
    "\n",
    "    # Check whether the observed difference lies between the Confidence interval \n",
    "    print('Confidence Interval: [{}, {}]'.format(round(C_I_lower, 4), round(C_I_higher, 4)))\n",
    "    print('Observed difference: {}'.format(round(d,4)))\n",
    "    print('Pass the sanity check: ' + str((d<C_I_higher)&(d>C_I_lower)))\n",
    "    return None"
   ]
  },
  {
   "cell_type": "code",
   "execution_count": 222,
   "metadata": {},
   "outputs": [
    {
     "name": "stdout",
     "output_type": "stream",
     "text": [
      "Confidence Interval: [-0.0013, 0.0013]\n",
      "Observed difference: 0.0001\n",
      "Pass the sanity check: True\n"
     ]
    }
   ],
   "source": [
    "sanity_check_prop(df_con.Clicks.sum(), df_exp.Clicks.sum(), df_con.Pageviews.sum(), df_exp.Pageviews.sum(), alpha =0.05)"
   ]
  },
  {
   "cell_type": "markdown",
   "metadata": {},
   "source": [
    "# Check for Practical and Statistical Significance\n",
    "\n",
    "For evaluation metrics, calculate a confidence interval for the difference between the experiment and control groups, and check whether each metric is statistically and/or practically significance. \n",
    "- A metric is statistically significant if the confidence interval does not include 0 (that is, you can be confident there was a change).\n",
    "- A metric is practically significant if the confidence interval does not include the practical significance boundary (that is, you can be confident there is a change that matters to the business.)\n",
    "\n",
    "I'll **not use Bonferroni correction** in this case. Because an unfortunate byproduct of Bonferroni correction is that I may increase the number of false negatives, where there really is an effect but we can't detect it as statistically significant. In our case, all metrics matter to our business and ignoring some of them may hinder us from discovering problems. Therefore, false negatives are very costly, and I don't want to correct for multiple comparisons at all. "
   ]
  },
  {
   "cell_type": "markdown",
   "metadata": {},
   "source": [
    "## Gross Conversion"
   ]
  },
  {
   "cell_type": "code",
   "execution_count": 245,
   "metadata": {},
   "outputs": [],
   "source": [
    "# The function is similar to the sanity check function above\n",
    "\n",
    "def significance_prop(m_con, m_exp, N_con, N_exp, dmin, alpha =0.05):\n",
    "    # Calculate the pooled proportion\n",
    "    p_pool = (m_con+m_exp)/(N_con+N_exp)\n",
    "    \n",
    "    # Compute standard deviation of binomial distribution\n",
    "    SE_pooled = np.sqrt(p_pool*(1-p_pool)*(1/N_con+1/N_exp))\n",
    "    \n",
    "    # Multiply by z-score to get margin of error\n",
    "    z_1 = abs(scipy.stats.norm.ppf(alpha/2))\n",
    "    margin = SE_pooled*z_1\n",
    "    \n",
    "    # Calculate the observed difference in proportion between two groups\n",
    "    diff = m_exp/N_exp - m_con/N_con\n",
    "\n",
    "    # Compute confidence interval around the observed difference\n",
    "    # We expect our estimation of difference between groups to be distributed normally, \n",
    "    # with a mean of diff and a standard deviation of the pooled standard error.\n",
    "    C_I_lower = diff-margin\n",
    "    C_I_higher = diff+margin\n",
    "\n",
    "    # Check whether the Confidence interval include 0 and the practical significance boundary\n",
    "    print('Confidence Interval: [{}, {}]'.format(round(C_I_lower, 4), round(C_I_higher, 4)))\n",
    "    print('Observed difference: {}'.format(round(diff,4)))\n",
    "    print('Statistically significan: ' + str((C_I_higher < 0) or (C_I_lower > 0)))\n",
    "    print('Practically significan: ' + str((C_I_higher < -dmin) or (C_I_lower > -dmin)))\n",
    "    return None"
   ]
  },
  {
   "cell_type": "code",
   "execution_count": 276,
   "metadata": {},
   "outputs": [
    {
     "name": "stdout",
     "output_type": "stream",
     "text": [
      "Confidence Interval: [-0.0291, -0.012]\n",
      "Observed difference: -0.0206\n",
      "Statistically significan: True\n",
      "Practically significan: True\n"
     ]
    }
   ],
   "source": [
    "# Gross conversion: number of user-ids to enroll in the free trial divided by number of unique click\n",
    "# Clicks and enrollment should be collected in same days\n",
    "df_con_em = df_con[df_con['Enrollments'].notnull()]\n",
    "df_exp_em = df_exp[df_exp['Enrollments'].notnull()]\n",
    "m_con = df_con_em.Enrollments.sum()\n",
    "m_exp = df_exp_em.Enrollments.sum()\n",
    "N_con = df_con_em.Clicks.sum()\n",
    "N_exp = df_exp_em.Clicks.sum()\n",
    "significance_prop(m_con, m_exp, N_con, N_exp, 0.01, alpha =0.05)"
   ]
  },
  {
   "cell_type": "code",
   "execution_count": 277,
   "metadata": {},
   "outputs": [
    {
     "name": "stdout",
     "output_type": "stream",
     "text": [
      "Confidence Interval: [-0.0116, 0.0019]\n",
      "Observed difference: -0.0049\n",
      "Statistically significan: False\n",
      "Practically significan: False\n"
     ]
    }
   ],
   "source": [
    "# Net conversion: number of user-ids to remain enrolled after 14 days divided by the number of unique click\n",
    "df_con_py = df_con[df_con['Payments'].notnull()]\n",
    "df_exp_py = df_exp[df_exp['Payments'].notnull()]\n",
    "m_con = df_con_py.Payments.sum()\n",
    "m_exp = df_exp_py.Payments.sum()\n",
    "N_con = df_con_py.Clicks.sum()\n",
    "N_exp = df_exp_py.Clicks.sum()\n",
    "significance_prop(m_con, m_exp, N_con, N_exp, 0.0075, alpha =0.05)"
   ]
  },
  {
   "cell_type": "code",
   "execution_count": 271,
   "metadata": {},
   "outputs": [
    {
     "data": {
      "text/plain": [
       "23"
      ]
     },
     "execution_count": 271,
     "metadata": {},
     "output_type": "execute_result"
    }
   ],
   "source": [
    "len(df_con[con_index].Clicks)"
   ]
  },
  {
   "cell_type": "markdown",
   "metadata": {},
   "source": [
    "# Run Sign Tests\n",
    "\n",
    "For each evaluation metric, do a sign test using the day-by-day breakdown. Sign test hypothesize that the probability of two outcomes (difference in two groups or not) have equal likelihood of 0.5. If the sign test does not agree with the confidence interval for the difference, see if you can figure out why."
   ]
  },
  {
   "cell_type": "markdown",
   "metadata": {},
   "source": [
    "## Gross conversion"
   ]
  },
  {
   "cell_type": "code",
   "execution_count": 326,
   "metadata": {},
   "outputs": [
    {
     "data": {
      "text/plain": [
       "array([0, 0, 0, 0, 0, 0, 0, 0, 0, 0, 0, 0, 0, 0, 0, 0, 0, 1, 1, 1, 1, 0,\n",
       "       0])"
      ]
     },
     "execution_count": 326,
     "metadata": {},
     "output_type": "execute_result"
    }
   ],
   "source": [
    "# Gather a list include all positive outcomes, which is the number of days when gross_conversion in experiment > \n",
    "# gross_conversion in control group and negative outcomes\n",
    "\n",
    "cases = np.array((df_exp_em.Enrollments/df_exp_em.Clicks >= df_con_em.Enrollments/df_con_em.Clicks) + 0)\n",
    "cases"
   ]
  },
  {
   "cell_type": "code",
   "execution_count": 327,
   "metadata": {},
   "outputs": [],
   "source": [
    "def signtest(positive_case):\n",
    "    \n",
    "    posi = len(cases[cases==1])\n",
    "    case = len(cases)\n",
    "    p = binom_test(posi, case)\n",
    "    return p"
   ]
  },
  {
   "cell_type": "code",
   "execution_count": 328,
   "metadata": {},
   "outputs": [
    {
     "data": {
      "text/plain": [
       "0.0025994777679443364"
      ]
     },
     "execution_count": 328,
     "metadata": {},
     "output_type": "execute_result"
    }
   ],
   "source": [
    "signtest(cases)"
   ]
  },
  {
   "cell_type": "markdown",
   "metadata": {},
   "source": [
    "The sign test on gross conversion matches the confidence interval that the difference is statistically significant."
   ]
  },
  {
   "cell_type": "markdown",
   "metadata": {},
   "source": [
    "## Net conversion"
   ]
  },
  {
   "cell_type": "code",
   "execution_count": 330,
   "metadata": {},
   "outputs": [
    {
     "data": {
      "text/plain": [
       "array([0, 1, 0, 0, 1, 0, 0, 0, 1, 1, 0, 0, 1, 0, 0, 0, 0, 1, 1, 0, 1, 1,\n",
       "       1])"
      ]
     },
     "execution_count": 330,
     "metadata": {},
     "output_type": "execute_result"
    }
   ],
   "source": [
    "cases = np.array((df_exp_py.Payments/df_exp_py.Clicks >= df_con_py.Payments/df_con_py.Clicks) + 0)\n",
    "cases"
   ]
  },
  {
   "cell_type": "code",
   "execution_count": 331,
   "metadata": {},
   "outputs": [
    {
     "data": {
      "text/plain": [
       "0.6776394844055175"
      ]
     },
     "execution_count": 331,
     "metadata": {},
     "output_type": "execute_result"
    }
   ],
   "source": [
    "signtest(cases)"
   ]
  },
  {
   "cell_type": "markdown",
   "metadata": {},
   "source": [
    "The sign test on net conversion matches the confidence interval that the difference is not statistically significant."
   ]
  }
 ],
 "metadata": {
  "kernelspec": {
   "display_name": "Python 3",
   "language": "python",
   "name": "python3"
  },
  "language_info": {
   "codemirror_mode": {
    "name": "ipython",
    "version": 3
   },
   "file_extension": ".py",
   "mimetype": "text/x-python",
   "name": "python",
   "nbconvert_exporter": "python",
   "pygments_lexer": "ipython3",
   "version": "3.7.4"
  },
  "toc": {
   "base_numbering": 1,
   "nav_menu": {},
   "number_sections": true,
   "sideBar": true,
   "skip_h1_title": false,
   "title_cell": "Table of Contents",
   "title_sidebar": "Contents",
   "toc_cell": false,
   "toc_position": {},
   "toc_section_display": true,
   "toc_window_display": false
  }
 },
 "nbformat": 4,
 "nbformat_minor": 2
}
